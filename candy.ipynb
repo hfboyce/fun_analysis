{
 "cells": [
  {
   "cell_type": "markdown",
   "metadata": {},
   "source": [
    "# Basic Data Analysis Review: Candy Manufacturing"
   ]
  },
  {
   "cell_type": "markdown",
   "metadata": {},
   "source": [
    "## Importing Libraries"
   ]
  },
  {
   "cell_type": "code",
   "execution_count": 1,
   "metadata": {},
   "outputs": [
    {
     "name": "stderr",
     "output_type": "stream",
     "text": [
      "── \u001b[1mAttaching packages\u001b[22m ─────────────────────────────────────── tidyverse 1.2.1 ──\n",
      "\u001b[32m✔\u001b[39m \u001b[34mggplot2\u001b[39m 3.2.1     \u001b[32m✔\u001b[39m \u001b[34mpurrr  \u001b[39m 0.3.2\n",
      "\u001b[32m✔\u001b[39m \u001b[34mtibble \u001b[39m 2.1.3     \u001b[32m✔\u001b[39m \u001b[34mdplyr  \u001b[39m 0.8.3\n",
      "\u001b[32m✔\u001b[39m \u001b[34mtidyr  \u001b[39m 1.0.0     \u001b[32m✔\u001b[39m \u001b[34mstringr\u001b[39m 1.4.0\n",
      "\u001b[32m✔\u001b[39m \u001b[34mreadr  \u001b[39m 1.3.1     \u001b[32m✔\u001b[39m \u001b[34mforcats\u001b[39m 0.4.0\n",
      "── \u001b[1mConflicts\u001b[22m ────────────────────────────────────────── tidyverse_conflicts() ──\n",
      "\u001b[31m✖\u001b[39m \u001b[34mdplyr\u001b[39m::\u001b[32mfilter()\u001b[39m masks \u001b[34mstats\u001b[39m::filter()\n",
      "\u001b[31m✖\u001b[39m \u001b[34mdplyr\u001b[39m::\u001b[32mlag()\u001b[39m    masks \u001b[34mstats\u001b[39m::lag()\n",
      "Registered S3 method overwritten by 'xts':\n",
      "  method     from\n",
      "  as.zoo.xts zoo \n",
      "Registered S3 method overwritten by 'quantmod':\n",
      "  method            from\n",
      "  as.zoo.data.frame zoo \n",
      "Registered S3 methods overwritten by 'forecast':\n",
      "  method             from    \n",
      "  fitted.fracdiff    fracdiff\n",
      "  residuals.fracdiff fracdiff\n"
     ]
    }
   ],
   "source": [
    "library(tidyverse)\n",
    "library(forecast)\n",
    "library(tseries)"
   ]
  },
  {
   "cell_type": "markdown",
   "metadata": {},
   "source": [
    "## Overview"
   ]
  },
  {
   "cell_type": "markdown",
   "metadata": {},
   "source": [
    "There seems to be a celebration every season of the year and with each holiday comes the byproduct of receiving candy and chocolate. In autumn, there is Halloween. In winter it's Christmas and Valentine's day. Spring brings Easter chocolate and summer brings Mother and Father's day. How do these celebrations affect the candy industry? Does the dreaded \"beach season\" decrease candy consumption and thus respectively it supplies? Is there a particular time of year where candy production is historically high?\n",
    "In this analysis, we hope to answer these questions using Time Series and ARIMA models."
   ]
  },
  {
   "cell_type": "markdown",
   "metadata": {},
   "source": [
    "# The Data"
   ]
  },
  {
   "cell_type": "markdown",
   "metadata": {},
   "source": [
    "The data is free to use from [this website](https://www.kaggle.com/rtatman/us-candy-production-by-month). It is the results of a survey taken on SurveyMonkey from 1,058 participants on Nov. 17, 2015.\n",
    "The dataset chosen has 65 columns and 1058 rows."
   ]
  },
  {
   "cell_type": "code",
   "execution_count": 2,
   "metadata": {},
   "outputs": [],
   "source": [
    "data <- read.csv(\"data/candy_production.csv\")"
   ]
  },
  {
   "cell_type": "code",
   "execution_count": 3,
   "metadata": {},
   "outputs": [
    {
     "data": {
      "text/html": [
       "<table>\n",
       "<caption>A data.frame: 6 × 2</caption>\n",
       "<thead>\n",
       "\t<tr><th scope=col>observation_date</th><th scope=col>IPG3113N</th></tr>\n",
       "\t<tr><th scope=col>&lt;fct&gt;</th><th scope=col>&lt;dbl&gt;</th></tr>\n",
       "</thead>\n",
       "<tbody>\n",
       "\t<tr><td>1972-01-01</td><td>85.6945</td></tr>\n",
       "\t<tr><td>1972-02-01</td><td>71.8200</td></tr>\n",
       "\t<tr><td>1972-03-01</td><td>66.0229</td></tr>\n",
       "\t<tr><td>1972-04-01</td><td>64.5645</td></tr>\n",
       "\t<tr><td>1972-05-01</td><td>65.0100</td></tr>\n",
       "\t<tr><td>1972-06-01</td><td>67.6467</td></tr>\n",
       "</tbody>\n",
       "</table>\n"
      ],
      "text/latex": [
       "A data.frame: 6 × 2\n",
       "\\begin{tabular}{r|ll}\n",
       " observation\\_date & IPG3113N\\\\\n",
       " <fct> & <dbl>\\\\\n",
       "\\hline\n",
       "\t 1972-01-01 & 85.6945\\\\\n",
       "\t 1972-02-01 & 71.8200\\\\\n",
       "\t 1972-03-01 & 66.0229\\\\\n",
       "\t 1972-04-01 & 64.5645\\\\\n",
       "\t 1972-05-01 & 65.0100\\\\\n",
       "\t 1972-06-01 & 67.6467\\\\\n",
       "\\end{tabular}\n"
      ],
      "text/markdown": [
       "\n",
       "A data.frame: 6 × 2\n",
       "\n",
       "| observation_date &lt;fct&gt; | IPG3113N &lt;dbl&gt; |\n",
       "|---|---|\n",
       "| 1972-01-01 | 85.6945 |\n",
       "| 1972-02-01 | 71.8200 |\n",
       "| 1972-03-01 | 66.0229 |\n",
       "| 1972-04-01 | 64.5645 |\n",
       "| 1972-05-01 | 65.0100 |\n",
       "| 1972-06-01 | 67.6467 |\n",
       "\n"
      ],
      "text/plain": [
       "  observation_date IPG3113N\n",
       "1 1972-01-01       85.6945 \n",
       "2 1972-02-01       71.8200 \n",
       "3 1972-03-01       66.0229 \n",
       "4 1972-04-01       64.5645 \n",
       "5 1972-05-01       65.0100 \n",
       "6 1972-06-01       67.6467 "
      ]
     },
     "metadata": {},
     "output_type": "display_data"
    }
   ],
   "source": [
    "head(data)"
   ]
  },
  {
   "cell_type": "code",
   "execution_count": null,
   "metadata": {},
   "outputs": [],
   "source": [
    "colnames(candies)=c('date','production')"
   ]
  }
 ],
 "metadata": {
  "kernelspec": {
   "display_name": "R",
   "language": "R",
   "name": "ir"
  },
  "language_info": {
   "codemirror_mode": "r",
   "file_extension": ".r",
   "mimetype": "text/x-r-source",
   "name": "R",
   "pygments_lexer": "r",
   "version": "3.6.1"
  }
 },
 "nbformat": 4,
 "nbformat_minor": 4
}
